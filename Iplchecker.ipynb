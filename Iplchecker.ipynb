{
  "nbformat": 4,
  "nbformat_minor": 0,
  "metadata": {
    "colab": {
      "provenance": [],
      "authorship_tag": "ABX9TyPAtNw153iCBx0F34PXMgNI",
      "include_colab_link": true
    },
    "kernelspec": {
      "name": "python3",
      "display_name": "Python 3"
    },
    "language_info": {
      "name": "python"
    }
  },
  "cells": [
    {
      "cell_type": "markdown",
      "metadata": {
        "id": "view-in-github",
        "colab_type": "text"
      },
      "source": [
        "<a href=\"https://colab.research.google.com/github/HARIHARANSANTHANAM/AWT-PROJECT/blob/main/Iplchecker.ipynb\" target=\"_parent\"><img src=\"https://colab.research.google.com/assets/colab-badge.svg\" alt=\"Open In Colab\"/></a>"
      ]
    },
    {
      "cell_type": "code",
      "execution_count": null,
      "metadata": {
        "colab": {
          "base_uri": "https://localhost:8080/",
          "height": 162
        },
        "id": "3P-u2uI1L_-4",
        "outputId": "45f12bda-fb7e-4ed8-8a7e-c4b7ea8f1250"
      },
      "outputs": [
        {
          "output_type": "stream",
          "name": "stdout",
          "text": [
            "The HTML response contains one or more search keywords.\n",
            "Notification email sent successfully!\n"
          ]
        },
        {
          "output_type": "error",
          "ename": "SystemExit",
          "evalue": "0",
          "traceback": [
            "An exception has occurred, use %tb to see the full traceback.\n",
            "\u001b[0;31mSystemExit\u001b[0m\u001b[0;31m:\u001b[0m 0\n"
          ]
        },
        {
          "output_type": "stream",
          "name": "stderr",
          "text": [
            "/usr/local/lib/python3.10/dist-packages/IPython/core/interactiveshell.py:3561: UserWarning: To exit: use 'exit', 'quit', or Ctrl-D.\n",
            "  warn(\"To exit: use 'exit', 'quit', or Ctrl-D.\", stacklevel=1)\n"
          ]
        }
      ],
      "source": [
        "import requests\n",
        "import sys\n",
        "import smtplib\n",
        "from email.mime.multipart import MIMEMultipart\n",
        "from email.mime.text import MIMEText\n",
        "\n",
        "# URL to fetch HTML content from\n",
        "url = \"https://shop.royalchallengers.com/ticket\"\n",
        "\n",
        "# List of search keywords\n",
        "search_keywords = [\"Royal Challengers Bengaluru vs Chennai Super Kings\"]\n",
        "\n",
        "# Email configuration\n",
        "smtp_server = 'smtp.gmail.com'\n",
        "smtp_port = 587\n",
        "smtp_username = \"mastermobilepubg@gmail.com\"\n",
        "smtp_password = \"yjoo vqbp goyw pbrx\"\n",
        "sender_email = 'mastermobilepubg@gmail.com'\n",
        "receiver_emails = ['hari21032001@gmail.com', \"skdon1013@gmail.com\", \"hariprasad572415@gmail.com\"]\n",
        "\n",
        "# Function to send email notification\n",
        "def send_email_notification(message):\n",
        "    try:\n",
        "        server = smtplib.SMTP(smtp_server, smtp_port)\n",
        "        server.starttls()\n",
        "        server.login(smtp_username, smtp_password)\n",
        "\n",
        "        msg = MIMEMultipart()\n",
        "        msg['From'] = sender_email\n",
        "        msg['To'] = \", \".join(receiver_emails)\n",
        "        msg['Subject'] = 'Notification: CSK ticket is open'\n",
        "\n",
        "        body = message\n",
        "        msg.attach(MIMEText(body, 'plain'))\n",
        "\n",
        "        server.sendmail(sender_email, receiver_emails, msg.as_string())\n",
        "        print(\"Notification email sent successfully!\")\n",
        "        server.quit()\n",
        "    except Exception as e:\n",
        "        print(\"Error sending notification email:\", str(e))\n",
        "\n",
        "# Function to check if HTML response contains search keywords\n",
        "def check_keywords_in_html(html_content, search_keywords):\n",
        "    for keyword in search_keywords:\n",
        "        if keyword.lower() in html_content.lower():\n",
        "            return True\n",
        "    return False\n",
        "\n",
        "# Function to fetch HTML content from URL\n",
        "def fetch_html_content(url):\n",
        "    try:\n",
        "        response = requests.get(url)\n",
        "        if response.status_code == 200:\n",
        "            return response.text\n",
        "        else:\n",
        "            print(\"Failed to fetch HTML content. Status code:\", response.status_code)\n",
        "    except Exception as e:\n",
        "        print(\"An error occurred:\", str(e))\n",
        "\n",
        "# Main function\n",
        "def main():\n",
        "    html_content = fetch_html_content(url)\n",
        "    if html_content:\n",
        "        if check_keywords_in_html(html_content, search_keywords):\n",
        "            print(\"The HTML response contains one or more search keywords.\")\n",
        "            send_email_notification(\"CSK vs RCB ticket is Opened. Hurry up!!\")\n",
        "            # Terminate the script\n",
        "            sys.exit(0)\n",
        "        else:\n",
        "            print(\"The HTML response does not contain any of the search keywords.\")\n",
        "\n",
        "if __name__ == \"__main__\":\n",
        "    main()\n"
      ]
    }
  ]
}